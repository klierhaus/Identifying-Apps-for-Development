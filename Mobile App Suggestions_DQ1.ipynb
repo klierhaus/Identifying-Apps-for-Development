{
 "cells": [
  {
   "cell_type": "markdown",
   "metadata": {},
   "source": [
    "# Free App Profiles With the Most Users\n",
    "\n",
    "The goal of this project is to determine what type of free apps are likely to attract more users. This information will be used for the purpose of informing developers which apps to place in-add ads to maximize revenue.\n",
    "\n",
    "In this hypothetical scenario, I will be working as a data analyst for a company that builds Android and iOS mobile apps, and my job is to enable our team of developers to make data-driven decisions with respect to the kind of apps they build. The aim is to find mobile app profiles that are profitable for the App Store and Google Play markets.\n",
    "\n",
    "At my company, we only build apps that are free to download and install, and our main source of revenue consists of in-app ads. This means that our revenue for any given app is mostly influenced by the number of users that use our app. Our goal for this project is to analyze data to help our developers understand what kinds of apps are likely to attract more users.\n",
    "\n",
    "## The Data Sets\n",
    "\n",
    "As of September 2018, there were approximately 2 million iOS apps available on the App Store, and 2.1 million Android apps on Google Play.\n",
    "\n",
    "I will be looking at a sub-section of all of the apps in the following existing data sets:\n",
    "\n",
    "A [data set](https://www.kaggle.com/lava18/google-play-store-apps) containing data about approximately 10,000 Android apps from Google Play; the data was collected in August 2018. You can download the data set directly from [this link](https://dq-content.s3.amazonaws.com/350/googleplaystore.csv).\n",
    "\n",
    "A [data set](https://www.kaggle.com/ramamet4/app-store-apple-data-set-10k-apps) containing data about approximately 7,000 iOS apps from the App Store; the data was collected in July 2017. You can download the data set directly from [this link](https://dq-content.s3.amazonaws.com/350/AppleStore.csv).\n",
    "\n",
    "## Exploring the Data Sets\n",
    "\n",
    "We'll begin by opening the data sets and extracting their headers."
   ]
  },
  {
   "cell_type": "code",
   "execution_count": 1,
   "metadata": {
    "collapsed": true
   },
   "outputs": [],
   "source": [
    "from csv import reader\n",
    "\n",
    "# Googe Play data set\n",
    "opened_file = open('googleplaystore.csv')\n",
    "read_file = reader(opened_file)\n",
    "android = list(read_file)\n",
    "android_header = android[0]\n",
    "android_data = android[1:]\n",
    "\n",
    "# Apple Store data set\n",
    "opened_file = open('AppleStore.csv')\n",
    "read_file = reader(opened_file)\n",
    "ios = list(read_file)\n",
    "ios_header = ios[0]\n",
    "ios_data = ios[1:]"
   ]
  },
  {
   "cell_type": "markdown",
   "metadata": {},
   "source": [
    "We will then explore the data by identifying columns that could help with our analysis.\n",
    "\n",
    "Let's do this by printing the first few rows of each data set and finding the number of rows and columns for each. We will create a function to do this since we may want to explore different sections of the data."
   ]
  },
  {
   "cell_type": "code",
   "execution_count": 2,
   "metadata": {
    "collapsed": false
   },
   "outputs": [],
   "source": [
    "def explore_data(dataset, start, end, rows_and_columns = False):\n",
    "    piece_of_dataset = dataset[start:end]\n",
    "    for row in piece_of_dataset:\n",
    "        print(row)\n",
    "        print('\\n')\n",
    "    \n",
    "    if rows_and_columns:\n",
    "        print('Number of rows:', len(dataset))\n",
    "        print('Number of columns:', len(dataset[0]))"
   ]
  },
  {
   "cell_type": "markdown",
   "metadata": {},
   "source": [
    "For Android:"
   ]
  },
  {
   "cell_type": "code",
   "execution_count": 3,
   "metadata": {
    "collapsed": false
   },
   "outputs": [
    {
     "name": "stdout",
     "output_type": "stream",
     "text": [
      "['App', 'Category', 'Rating', 'Reviews', 'Size', 'Installs', 'Type', 'Price', 'Content Rating', 'Genres', 'Last Updated', 'Current Ver', 'Android Ver']\n",
      "\n",
      "\n",
      "['Photo Editor & Candy Camera & Grid & ScrapBook', 'ART_AND_DESIGN', '4.1', '159', '19M', '10,000+', 'Free', '0', 'Everyone', 'Art & Design', 'January 7, 2018', '1.0.0', '4.0.3 and up']\n",
      "\n",
      "\n",
      "['Coloring book moana', 'ART_AND_DESIGN', '3.9', '967', '14M', '500,000+', 'Free', '0', 'Everyone', 'Art & Design;Pretend Play', 'January 15, 2018', '2.0.0', '4.0.3 and up']\n",
      "\n",
      "\n",
      "['U Launcher Lite – FREE Live Cool Themes, Hide Apps', 'ART_AND_DESIGN', '4.7', '87510', '8.7M', '5,000,000+', 'Free', '0', 'Everyone', 'Art & Design', 'August 1, 2018', '1.2.4', '4.0.3 and up']\n",
      "\n",
      "\n",
      "['Sketch - Draw & Paint', 'ART_AND_DESIGN', '4.5', '215644', '25M', '50,000,000+', 'Free', '0', 'Teen', 'Art & Design', 'June 8, 2018', 'Varies with device', '4.2 and up']\n",
      "\n",
      "\n",
      "['Pixel Draw - Number Art Coloring Book', 'ART_AND_DESIGN', '4.3', '967', '2.8M', '100,000+', 'Free', '0', 'Everyone', 'Art & Design;Creativity', 'June 20, 2018', '1.1', '4.4 and up']\n",
      "\n",
      "\n",
      "Number of rows: 10841\n",
      "Number of colums: 13\n"
     ]
    }
   ],
   "source": [
    "print(android_header)\n",
    "print('\\n')\n",
    "explore_data(android_data, 0, 5, True)"
   ]
  },
  {
   "cell_type": "markdown",
   "metadata": {},
   "source": [
    "The Google Play data set has 10841 apps each with 13 columns or attributes. Attributes such as `'App'`, `'Category'`, `'Rating'`, `'Reviews'`, `'Installs'`, `'Type'`,  `'Price'`, and `'Genres'` may be useful for our analysis.\n",
    "\n",
    "For iOS:"
   ]
  },
  {
   "cell_type": "code",
   "execution_count": 4,
   "metadata": {
    "collapsed": false
   },
   "outputs": [
    {
     "name": "stdout",
     "output_type": "stream",
     "text": [
      "['id', 'track_name', 'size_bytes', 'currency', 'price', 'rating_count_tot', 'rating_count_ver', 'user_rating', 'user_rating_ver', 'ver', 'cont_rating', 'prime_genre', 'sup_devices.num', 'ipadSc_urls.num', 'lang.num', 'vpp_lic']\n",
      "\n",
      "\n",
      "['284882215', 'Facebook', '389879808', 'USD', '0.0', '2974676', '212', '3.5', '3.5', '95.0', '4+', 'Social Networking', '37', '1', '29', '1']\n",
      "\n",
      "\n",
      "['389801252', 'Instagram', '113954816', 'USD', '0.0', '2161558', '1289', '4.5', '4.0', '10.23', '12+', 'Photo & Video', '37', '0', '29', '1']\n",
      "\n",
      "\n",
      "['529479190', 'Clash of Clans', '116476928', 'USD', '0.0', '2130805', '579', '4.5', '4.5', '9.24.12', '9+', 'Games', '38', '5', '18', '1']\n",
      "\n",
      "\n",
      "['420009108', 'Temple Run', '65921024', 'USD', '0.0', '1724546', '3842', '4.5', '4.0', '1.6.2', '9+', 'Games', '40', '5', '1', '1']\n",
      "\n",
      "\n",
      "['284035177', 'Pandora - Music & Radio', '130242560', 'USD', '0.0', '1126879', '3594', '4.0', '4.5', '8.4.1', '12+', 'Music', '37', '4', '1', '1']\n",
      "\n",
      "\n",
      "Number of rows: 7197\n",
      "Number of colums: 16\n"
     ]
    }
   ],
   "source": [
    "print(ios_header)\n",
    "print('\\n')\n",
    "explore_data(ios_data, 0, 5, True)"
   ]
  },
  {
   "cell_type": "markdown",
   "metadata": {},
   "source": [
    "The Apple Store data set has 7197 apps each with 16 columns or attributes. Attributes such as `'track_name'`, `'price'`, `'rating_count_tot'`,`'rating_count_ver'`, `'user_rating'`, and `'prime_genre'` may be useful for our analysis.\n",
    "\n",
    "The data set columns may not be self-explanatory so documentation can be found [here](https://www.kaggle.com/ramamet4/app-store-apple-data-set-10k-apps/home)."
   ]
  },
  {
   "cell_type": "markdown",
   "metadata": {},
   "source": [
    "# Cleaning the Data\n",
    "\n",
    "Before beginning our analysis, we need to ensure that there are no inaccurate data entries. We need to: \n",
    "\n",
    "* Detect inaccurate data, and correct or remove it.\n",
    "* Detect duplicate data, and remove duplicates.\n",
    "\n",
    "We are also working for a company that only builds *free* apps and are directed toward an *English speaking audience*. We need to:\n",
    "\n",
    "* Remove non-English apps\n",
    "* Remove apps that aren't free\n",
    "\n",
    "## Cleaning the Google Play data set\n",
    "The Google Play data set has a dedicated [discussion section]https://www.kaggle.com/lava18/google-play-store-apps/discussion that outlines an error for entry 10472. Let's see what that entry looks like and compare it against correct rows."
   ]
  },
  {
   "cell_type": "code",
   "execution_count": 5,
   "metadata": {
    "collapsed": false
   },
   "outputs": [
    {
     "name": "stdout",
     "output_type": "stream",
     "text": [
      "['Life Made WI-Fi Touchscreen Photo Frame', '1.9', '19', '3.0M', '1,000+', 'Free', '0', 'Everyone', '', 'February 11, 2018', '1.0.19', '4.0 and up']\n",
      "\n",
      "\n",
      "['App', 'Category', 'Rating', 'Reviews', 'Size', 'Installs', 'Type', 'Price', 'Content Rating', 'Genres', 'Last Updated', 'Current Ver', 'Android Ver']\n",
      "\n",
      "\n",
      "['Photo Editor & Candy Camera & Grid & ScrapBook', 'ART_AND_DESIGN', '4.1', '159', '19M', '10,000+', 'Free', '0', 'Everyone', 'Art & Design', 'January 7, 2018', '1.0.0', '4.0.3 and up']\n"
     ]
    }
   ],
   "source": [
    "print(android_data[10472]) #incorrect row\n",
    "print('\\n')\n",
    "print(android_header)\n",
    "print('\\n')\n",
    "print(android_data[0]) #correct row"
   ]
  },
  {
   "cell_type": "markdown",
   "metadata": {},
   "source": [
    "The incorrect row only has 12 columns, inclusive of the blank `''` entry. We see that the row is missing the `'Genre'` entry. We also notice the `'Category'` column is missing - it is innocrectly classified as `'1.9'`. This is indicative that a deletion of the `'Category'` entry has shifted the other attributes one cell to the left.\n",
    "\n",
    "It is easiest if we do not include this row in our analysis. Let's delete it."
   ]
  },
  {
   "cell_type": "code",
   "execution_count": 6,
   "metadata": {
    "collapsed": false
   },
   "outputs": [
    {
     "name": "stdout",
     "output_type": "stream",
     "text": [
      "10841\n",
      "10840\n"
     ]
    }
   ],
   "source": [
    "print(len(android_data))\n",
    "del android_data[10472]\n",
    "print(len(android_data))"
   ]
  },
  {
   "cell_type": "markdown",
   "metadata": {},
   "source": [
    "## Cleaning the iOS data set\n",
    "\n",
    "On inpsection of the App Store data set [discussion section](https://www.kaggle.com/ramamet4/app-store-apple-data-set-10k-apps/discussion), one way we can find errors is to search if each row does not have 16 entries or columns. Let's go through each row and count the length of entries, and print the ones that are not equal to 16."
   ]
  },
  {
   "cell_type": "code",
   "execution_count": 7,
   "metadata": {
    "collapsed": false
   },
   "outputs": [],
   "source": [
    "for row in ios_data:\n",
    "    if len(row) !=len(ios_header):\n",
    "        print(row) #prints the row data\n",
    "        print('\\n')\n",
    "        print(ios_data.index(row)) #prints the row no."
   ]
  },
  {
   "cell_type": "markdown",
   "metadata": {},
   "source": [
    "Each row has the expected number of entries. Great! It appears that no information is missing. Let's move on for now."
   ]
  },
  {
   "cell_type": "markdown",
   "metadata": {},
   "source": [
    "## Deleting Duplicate Data - Google Play\n",
    "\n",
    "If we explore the Google Play data set long enough or look at the [discussions section](https://www.kaggle.com/lava18/google-play-store-apps/discussion), you'll notice some apps have duplicate entries. For instance, Instagram has four entries:"
   ]
  },
  {
   "cell_type": "code",
   "execution_count": 8,
   "metadata": {
    "collapsed": false
   },
   "outputs": [
    {
     "name": "stdout",
     "output_type": "stream",
     "text": [
      "['Instagram', 'SOCIAL', '4.5', '66577313', 'Varies with device', '1,000,000,000+', 'Free', '0', 'Teen', 'Social', 'July 31, 2018', 'Varies with device', 'Varies with device']\n",
      "['Instagram', 'SOCIAL', '4.5', '66577446', 'Varies with device', '1,000,000,000+', 'Free', '0', 'Teen', 'Social', 'July 31, 2018', 'Varies with device', 'Varies with device']\n",
      "['Instagram', 'SOCIAL', '4.5', '66577313', 'Varies with device', '1,000,000,000+', 'Free', '0', 'Teen', 'Social', 'July 31, 2018', 'Varies with device', 'Varies with device']\n",
      "['Instagram', 'SOCIAL', '4.5', '66509917', 'Varies with device', '1,000,000,000+', 'Free', '0', 'Teen', 'Social', 'July 31, 2018', 'Varies with device', 'Varies with device']\n"
     ]
    }
   ],
   "source": [
    "for app in android:\n",
    "    name = app [0]\n",
    "    if name == 'Instagram':\n",
    "        print(app)"
   ]
  },
  {
   "cell_type": "markdown",
   "metadata": {},
   "source": [
    "Let's check if there are more duplicates and locate where they are. We will store the duplicates' names in a separate list called `duplicate_apps` and isolate the unique apps in its own list called `unique_apps`."
   ]
  },
  {
   "cell_type": "code",
   "execution_count": 9,
   "metadata": {
    "collapsed": false
   },
   "outputs": [
    {
     "name": "stdout",
     "output_type": "stream",
     "text": [
      "Number of duplicate apps: 1181\n",
      "\n",
      "\n",
      "Examples of duplicate apps: ['Quick PDF Scanner + OCR FREE', 'Box', 'Google My Business', 'ZOOM Cloud Meetings', 'join.me - Simple Meetings', 'Box', 'Zenefits', 'Google Ads', 'Google My Business', 'Slack', 'FreshBooks Classic', 'Insightly CRM', 'QuickBooks Accounting: Invoicing & Expenses', 'HipChat - Chat Built for Teams', 'Xero Accounting Software']\n"
     ]
    }
   ],
   "source": [
    "duplicate_apps = []\n",
    "unique_apps = []\n",
    "\n",
    "for row in android_data:\n",
    "    name = row[0]\n",
    "    if name in unique_apps:\n",
    "        duplicate_apps.append(name)\n",
    "    else:\n",
    "        unique_apps.append(name)\n",
    "\n",
    "print('Number of duplicate apps:', len(duplicate_apps))\n",
    "print('\\n')\n",
    "print('Examples of duplicate apps:', duplicate_apps[:15])"
   ]
  },
  {
   "cell_type": "markdown",
   "metadata": {},
   "source": [
    "We can see that the Google Play data set has 1181 repeated apps, but many are repeated more than once. For instance, from the list printed above, we see that the app `'Box'` is repeated. \n",
    "\n",
    "We won't remove the duplicates randomly in the `duplicate_apps` list. We'll choose the duplicate apps with the highest number of reviews. We can see from the `'Instagram'` apps printed above, that they have varying number of reviews. We'll isolate the entry with the highest number of reviews, plausibly indicating the most recent one, and delete the rest.\n",
    "\n",
    "We will do this by creating a dictionary, where each dictionary key is a unique app name and the corresponding dictionary value is the highest number of reviews of that app. We will then use that information stored in the dictionary and create a new data set, which will now only have one entry per app (the one with the highest number of reviews).\n",
    "\n",
    "We will use the `not in` operator to check for non-membership in a dictionary."
   ]
  },
  {
   "cell_type": "code",
   "execution_count": 10,
   "metadata": {
    "collapsed": true
   },
   "outputs": [],
   "source": [
    "# Creation of dictionary where each key is a unique app name \n",
    "# and the corresponding dictionary value is the highest number of reviews\n",
    "reviews_max = {}\n",
    "for row in android_data:\n",
    "    name = row[0]\n",
    "    n_reviews = float(row[3])\n",
    "    \n",
    "    if name in reviews_max and reviews_max[name] < n_reviews:\n",
    "        reviews_max[name] = n_reviews\n",
    "        \n",
    "    elif name not in reviews_max:\n",
    "        reviews_max[name] = n_reviews"
   ]
  },
  {
   "cell_type": "markdown",
   "metadata": {},
   "source": [
    "The length of the duplicates list is 1,181, so we should expect that our dictionary `reviews_max` is the difference between our data set and 1,181."
   ]
  },
  {
   "cell_type": "code",
   "execution_count": 11,
   "metadata": {
    "collapsed": false
   },
   "outputs": [
    {
     "name": "stdout",
     "output_type": "stream",
     "text": [
      "Length Data Set: 10840\n",
      "Length Dictionary: 9659\n",
      "Difference: 1181\n"
     ]
    }
   ],
   "source": [
    "print('Length Data Set:', len(android_data))\n",
    "print('Length Dictionary:', len(reviews_max))\n",
    "print('Difference:', len(android_data) - len(reviews_max))"
   ]
  },
  {
   "cell_type": "markdown",
   "metadata": {},
   "source": [
    "We see that the difference is 1181 - what we expected.\n",
    "\n",
    "Now let's use the dictionary above to remove duplicate rows. We loop through the android data set, and for every iteration:\n",
    "\n",
    "* We isolate the name of the app and the number of reviews.\n",
    "* We add the current row (app) to the android_clean list, and the app name (name) to the already_added list if:\n",
    "    * The number of reviews of the current app matches the number of reviews of that app as described in the reviews_max dictionary; and\n",
    "    * The name of the app is not already in the already_added list. We need to add this supplementary condition to account for those cases where the highest number of reviews of a duplicate app is the same for more than one entry (for example, the Box app has three entries, and the number of reviews is the same). If we just check for reviews_max[name] == n_reviews, we'll still end up with duplicate entries for some apps."
   ]
  },
  {
   "cell_type": "code",
   "execution_count": 12,
   "metadata": {
    "collapsed": false
   },
   "outputs": [
    {
     "name": "stdout",
     "output_type": "stream",
     "text": [
      "['Text on Photo - Fonteee', 'ART_AND_DESIGN', '4.4', '13880', '28M', '1,000,000+', 'Free', '0', 'Everyone', 'Art & Design', 'October 27, 2017', '1.0.4', '4.1 and up']\n",
      "\n",
      "\n",
      "['Realtor.com Real Estate: Homes for Sale and Rent', 'Real Estate sale & rent Trovit', '591 housing transactions - renting houses, middle-class houses, new cases, real-time registration, villas through the sky, apartment suites, MRT, buying a house selling prices, housing mortgages']\n",
      "\n",
      "\n",
      "['Realtor.com Real Estate: Homes for Sale and Rent', 'HOUSE_AND_HOME', '4.5', '162243', '12M', '10,000,000+', 'Free', '0', 'Everyone', 'House & Home', 'July 26, 2018', '8.18', '4.0.3 and up']\n",
      "\n",
      "\n",
      "['Real Estate sale & rent Trovit', 'HOUSE_AND_HOME', '4.1', '65913', '7.7M', '5,000,000+', 'Free', '0', 'Everyone', 'House & Home', 'July 16, 2018', '4.47.3', '4.0.3 and up']\n",
      "\n",
      "\n",
      "['591 housing transactions - renting houses, middle-class houses, new cases, real-time registration, villas through the sky, apartment suites, MRT, buying a house selling prices, housing mortgages', 'HOUSE_AND_HOME', '4.1', '24977', '21M', '1,000,000+', 'Free', '0', 'Everyone', 'House & Home', 'August 1, 2018', '3.5.9', '4.0.3 and up']\n",
      "\n",
      "\n",
      "Number of rows: 9659\n",
      "Number of colums: 13\n"
     ]
    },
    {
     "data": {
      "text/plain": [
       "9659"
      ]
     },
     "execution_count": 12,
     "metadata": {},
     "output_type": "execute_result"
    }
   ],
   "source": [
    "# Create two empty lists to store clean data and another for app names\n",
    "android_clean = []\n",
    "already_added = []\n",
    "\n",
    "for row in android_data:\n",
    "    name = row[0]\n",
    "    n_reviews = float(row[3])\n",
    "    \n",
    "    if (reviews_max[name] == n_reviews) and (name not in already_added):\n",
    "        android_clean.append(row)\n",
    "        already_added.append(name) # keeps track of apps already added\n",
    "\n",
    "#Inspect some entries to see if our output is what we expected\n",
    "print(android_clean[9])\n",
    "print('\\n')\n",
    "print(already_added[1077:1080])\n",
    "print('\\n')\n",
    "\n",
    "explore_data(android_clean, 1077, 1080, True)\n",
    "\n",
    "len(already_added)"
   ]
  },
  {
   "cell_type": "markdown",
   "metadata": {
    "collapsed": true
   },
   "source": [
    "The entries' formats look correct. And we have the expected 9,659 rows in the `android_clean` data set. Excellent!"
   ]
  },
  {
   "cell_type": "markdown",
   "metadata": {},
   "source": [
    "## Removal of Non-English Apps\n",
    "Remember our company only develops apps in English. There are, however, apps in the data set that are non-English, which we would like to remove.\n",
    "\n",
    "One way to do this is to remove each app with a name containing a symbol that is not commonly used in English text. Behind the scenes, each character we use in a string has a corresponding number associated with it. We can retreive the corresponding number of each character by using the [built-in function](https://docs.python.org/3/library/functions.html#ord) `ord()`. For instance:"
   ]
  },
  {
   "cell_type": "code",
   "execution_count": 13,
   "metadata": {
    "collapsed": false
   },
   "outputs": [
    {
     "name": "stdout",
     "output_type": "stream",
     "text": [
      "97\n",
      "65\n",
      "49\n",
      "33\n"
     ]
    }
   ],
   "source": [
    "print(ord('a'))\n",
    "print(ord('A'))\n",
    "print(ord('1'))\n",
    "print(ord('!'))"
   ]
  },
  {
   "cell_type": "markdown",
   "metadata": {},
   "source": [
    "The numbers corresponding to the characters we commonly use in the English language are all in the range of 0 to 127 according to ASCII (American Standard Code of Informaiton Interchange). Based on this number range, we can build a function that detects whether a character belongs to the set of common English characters or not. If the number is equal to or less than 127, the the character belongs to the set of common English characters.\n",
    "\n",
    "Let's index through each of the app's name by writing a function that does the takes in a string and returns `False` if there are any characters in the string that does not belong to ASCII 0 - 127, otherwise it returns `True`:\n",
    "\n",
    "* Iterates over the input string and checks whether each character is associated with the a character greater than 127. If so, the function should `return False` and the app name is probably non-English.\n",
    "* If the loop finishes running without the `return` statement being executed, then it means no character had a corresponding number over 127 and the app name is probably English, so the function returns `True`."
   ]
  },
  {
   "cell_type": "code",
   "execution_count": 14,
   "metadata": {
    "collapsed": false
   },
   "outputs": [
    {
     "name": "stdout",
     "output_type": "stream",
     "text": [
      "True\n",
      "False\n",
      "False\n",
      "False\n"
     ]
    }
   ],
   "source": [
    "def check_if_English(string):\n",
    " \n",
    "    for character in string:\n",
    "        if ord(character) > 127:\n",
    "            return False\n",
    "        \n",
    "    return True\n",
    "    \n",
    "# Check efficacy of code\n",
    "print(check_if_English('Instagram'))\n",
    "print(check_if_English('爱奇艺PPS -《欢乐颂2》电视剧热播'))\n",
    "print(check_if_English('Docs To Go™ Free Office Suite'))\n",
    "print(check_if_English('Instachat 😜'))"
   ]
  },
  {
   "cell_type": "markdown",
   "metadata": {},
   "source": [
    "We see that some symbols like `™` or `😜` `return False` even though they are English apps. Let's dissect this a bit more:"
   ]
  },
  {
   "cell_type": "code",
   "execution_count": 15,
   "metadata": {
    "collapsed": false
   },
   "outputs": [
    {
     "name": "stdout",
     "output_type": "stream",
     "text": [
      "8482\n",
      "128540\n"
     ]
    }
   ],
   "source": [
    "print(ord('™'))\n",
    "print(ord('😜'))"
   ]
  },
  {
   "cell_type": "markdown",
   "metadata": {},
   "source": [
    "These symbols are > 127. How can we optimize this? While not perfect, and to prevent spending too much time on this, let's create an algorithm that says `if` there are more than three non-ASCII character greater than 127, we will label it as non-English."
   ]
  },
  {
   "cell_type": "code",
   "execution_count": 16,
   "metadata": {
    "collapsed": false
   },
   "outputs": [
    {
     "name": "stdout",
     "output_type": "stream",
     "text": [
      "True\n",
      "False\n",
      "True\n",
      "True\n"
     ]
    }
   ],
   "source": [
    "def check_if_English(string):\n",
    "    \n",
    "    non_ascii = 0  \n",
    "\n",
    "    for character in string:\n",
    "        if ord(character) > 127:\n",
    "            non_ascii += 1\n",
    "            \n",
    "    if non_ascii > 3:\n",
    "        return False\n",
    "    else:     \n",
    "        return True\n",
    "\n",
    "# Check efficacy of code\n",
    "print(check_if_English('Instagram'))\n",
    "print(check_if_English('爱奇艺PPS -《欢乐颂2》电视剧热播'))\n",
    "print(check_if_English('Docs To Go™ Free Office Suite'))\n",
    "print(check_if_English('Instachat 😜'))"
   ]
  },
  {
   "cell_type": "markdown",
   "metadata": {},
   "source": [
    "Now let's use the `check_if_english` function to filter out non-English apps from both data sets. We will loop through each data set and, if the app is identified as English, we will append the whole row to a separate list."
   ]
  },
  {
   "cell_type": "code",
   "execution_count": 17,
   "metadata": {
    "collapsed": false
   },
   "outputs": [
    {
     "name": "stdout",
     "output_type": "stream",
     "text": [
      "['Infinite Painter', 'ART_AND_DESIGN', '4.1', '36815', '29M', '1,000,000+', 'Free', '0', 'Everyone', 'Art & Design', 'June 14, 2018', '6.1.61.1', '4.2 and up']\n",
      "\n",
      "\n",
      "['Garden Coloring Book', 'ART_AND_DESIGN', '4.4', '13791', '33M', '1,000,000+', 'Free', '0', 'Everyone', 'Art & Design', 'September 20, 2017', '2.9.2', '3.0 and up']\n",
      "\n",
      "\n",
      "Number of rows: 9614\n",
      "Number of colums: 13\n",
      "\n",
      "\n",
      "['282935706', 'Bible', '92774400', 'USD', '0.0', '985920', '5320', '4.5', '5.0', '7.5.1', '4+', 'Reference', '37', '5', '45', '1']\n",
      "\n",
      "\n",
      "['553834731', 'Candy Crush Saga', '222846976', 'USD', '0.0', '961794', '2453', '4.5', '4.5', '1.101.0', '4+', 'Games', '43', '5', '24', '1']\n",
      "\n",
      "\n",
      "Number of rows: 6183\n",
      "Number of colums: 16\n"
     ]
    }
   ],
   "source": [
    "android_english_apps = []\n",
    "ios_english_apps = []\n",
    "\n",
    "\n",
    "for row in android_clean:\n",
    "    name = row[0]\n",
    "    if check_if_English(name):\n",
    "        android_english_apps.append(row)\n",
    "\n",
    "for row in ios_data:\n",
    "    name = row[1]\n",
    "    if check_if_English(name):\n",
    "        ios_english_apps.append(row)\n",
    "    \n",
    "explore_data(android_english_apps, 6, 8, True)\n",
    "print('\\n')\n",
    "explore_data(ios_english_apps, 6, 8, True)\n",
    "    "
   ]
  },
  {
   "cell_type": "markdown",
   "metadata": {},
   "source": [
    "We are left with 9614 Android apps and 6183 iOS apps."
   ]
  },
  {
   "cell_type": "markdown",
   "metadata": {},
   "source": [
    "# Isolating Free Apps\n",
    "\n",
    "So far, we have cleaned the data by:\n",
    "\n",
    "Removing inaccurate data\n",
    "Removing duplicate app entries\n",
    "Removing non-English apps\n",
    "\n",
    "Our company only builds free-to-download apps and our main source of revenue consists of in-app ads. So far, our data consists of `free` and `non_free` apps. Isolating the `free` apps will be the last step in cleaning the data."
   ]
  },
  {
   "cell_type": "code",
   "execution_count": 18,
   "metadata": {
    "collapsed": false
   },
   "outputs": [
    {
     "name": "stdout",
     "output_type": "stream",
     "text": [
      "['Photo Editor & Candy Camera & Grid & ScrapBook', 'ART_AND_DESIGN', '4.1', '159', '19M', '10,000+', 'Free', '0', 'Everyone', 'Art & Design', 'January 7, 2018', '1.0.0', '4.0.3 and up']\n",
      "\n",
      "\n",
      "['U Launcher Lite – FREE Live Cool Themes, Hide Apps', 'ART_AND_DESIGN', '4.7', '87510', '8.7M', '5,000,000+', 'Free', '0', 'Everyone', 'Art & Design', 'August 1, 2018', '1.2.4', '4.0.3 and up']\n",
      "\n",
      "\n",
      "['Sketch - Draw & Paint', 'ART_AND_DESIGN', '4.5', '215644', '25M', '50,000,000+', 'Free', '0', 'Teen', 'Art & Design', 'June 8, 2018', 'Varies with device', '4.2 and up']\n",
      "\n",
      "\n",
      "Number of rows: 8864\n",
      "Number of colums: 13\n",
      "\n",
      "\n",
      "['284882215', 'Facebook', '389879808', 'USD', '0.0', '2974676', '212', '3.5', '3.5', '95.0', '4+', 'Social Networking', '37', '1', '29', '1']\n",
      "\n",
      "\n",
      "['389801252', 'Instagram', '113954816', 'USD', '0.0', '2161558', '1289', '4.5', '4.0', '10.23', '12+', 'Photo & Video', '37', '0', '29', '1']\n",
      "\n",
      "\n",
      "['529479190', 'Clash of Clans', '116476928', 'USD', '0.0', '2130805', '579', '4.5', '4.5', '9.24.12', '9+', 'Games', '38', '5', '18', '1']\n",
      "\n",
      "\n",
      "Number of rows: 3222\n",
      "Number of colums: 16\n"
     ]
    }
   ],
   "source": [
    "#Loop through each data set to isolate the free apps in a separate list\n",
    "android_free = []\n",
    "ios_free = []\n",
    "\n",
    "for row in android_english_apps:\n",
    "    price = row[7]\n",
    "    if price == '0':\n",
    "        android_free.append(row)\n",
    "        \n",
    "for row in ios_english_apps:\n",
    "    price = float(row[4])\n",
    "    if price == 0:\n",
    "        ios_free.append(row)\n",
    "\n",
    "#Check the length of each data set to see how many apps we have remaining\n",
    "explore_data(android_free, 0, 3, True)\n",
    "print('\\n')\n",
    "explore_data(ios_free, 0, 3, True)"
   ]
  },
  {
   "cell_type": "markdown",
   "metadata": {
    "collapsed": true
   },
   "source": [
    "We have 8864 Android apps and 3222 iOS apps, which should be enough for our analysis.\n",
    "\n",
    "# Frequency Tables to Determine the Most Common Genres in Google Play and the App Store\n",
    "\n",
    "Let's re-state our goal. Our aim is to determine the kinds of apps that are likely to attract the most users. More users correlated to higher revenue since these are the apps where we would have ads.\n",
    "\n",
    "To minimize the risk and overhead, our validation strategy for an app idea is comprised of the following:\n",
    "\n",
    "1. Build a MVP, or minimal viable product. In this case, this is the Android version of the app, and add it to Google Play.\n",
    "2. If the app has a good response from users, we develop it further.\n",
    "3. If the app is profitable after 6 months, we build an iOS version of the app and add it to the App Store.\n",
    "\n",
    "Our end goal is to have the app successful on both Google Play and the App Store. This means that we will need to find the types of apps that do well on both markets. \n",
    "\n",
    "To begin to determine what types of apps are most successful, let's get a feel for what the most common genres are for each market.\n",
    "\n",
    "For the android apps, we will look at the columns `Category` and `Genre` in the Google Play data set. For iOS apps, we will look at the column `prime_genre` in the App Store data set.\n",
    "\n",
    "We will build two functions. One to create a frequency table and its percentages, with two inputs: the data set we want to parse through, and the column number of  the data set.\n",
    "\n",
    "The other will display the percentages in descending order."
   ]
  },
  {
   "cell_type": "code",
   "execution_count": 19,
   "metadata": {
    "collapsed": false
   },
   "outputs": [],
   "source": [
    "def freq_table(data_set, index):\n",
    "    table = {}\n",
    "    total = 0\n",
    "    for row in data_set:\n",
    "        total +=1\n",
    "        value = row[index]\n",
    "        if value in table:\n",
    "            table[value] +=1\n",
    "        else:\n",
    "            table[value] = 1\n",
    "    \n",
    "    table_percentages = {}\n",
    "    for key in table:\n",
    "        percentage = (table[key] / total) * 100\n",
    "        table_percentages[key] = percentage\n",
    "\n",
    "    return table_percentages\n",
    "\n",
    "# category_android = freq_table(android_free, 1)\n",
    "# genre_android = freq_table(android_free, 9)\n",
    "# genre_ios = freq_table(ios_free, 11)\n",
    "\n",
    "# print(category_android)\n",
    "# print('\\n')\n",
    "# print(genre_android)\n",
    "# print('\\n')\n",
    "# print(genre_ios)"
   ]
  },
  {
   "cell_type": "markdown",
   "metadata": {
    "collapsed": true
   },
   "source": [
    "Great! It looks like we have the percentages of what we were looking for. This, however, is a bit hard to read. Let's try to display the largest percentage genre at the top and print in descending order. We will create another function to do so. \n",
    "\n",
    "We will make use of the `sorted()` function. The `sorted()`          function doesn't work too well with dictionaries because it only considers and returns the dictionary keys.\n",
    "\n",
    "The `sorted()` function, however, works well if we transform the dictionary into a list of tuples, where each tuple contains a dictionary key along with its corresponding dictionary value. To ensure the sorting works right, the dictionary value comes first, and the dictionary key comes second."
   ]
  },
  {
   "cell_type": "code",
   "execution_count": 20,
   "metadata": {
    "collapsed": false
   },
   "outputs": [],
   "source": [
    "def display_table_descending(dataset, index):\n",
    "    table = freq_table(dataset, index)\n",
    "    table_display = []\n",
    "    for key in table:\n",
    "        key_value_as_tuple = (table[key], key)\n",
    "        table_display.append(key_value_as_tuple)\n",
    "        \n",
    "    table_sorted = sorted(table_display, reverse = True)\n",
    "    for entry in table_sorted:\n",
    "        print(entry[1], ':', entry[0])\n"
   ]
  },
  {
   "cell_type": "markdown",
   "metadata": {},
   "source": [
    "Let's look at the frequency table for the `Category` section of the Google Play data set:"
   ]
  },
  {
   "cell_type": "code",
   "execution_count": 21,
   "metadata": {
    "collapsed": false
   },
   "outputs": [
    {
     "name": "stdout",
     "output_type": "stream",
     "text": [
      "FAMILY : 18.907942238267147\n",
      "GAME : 9.724729241877256\n",
      "TOOLS : 8.461191335740072\n",
      "BUSINESS : 4.591606498194946\n",
      "LIFESTYLE : 3.9034296028880866\n",
      "PRODUCTIVITY : 3.892148014440433\n",
      "FINANCE : 3.7003610108303246\n",
      "MEDICAL : 3.531137184115524\n",
      "SPORTS : 3.395758122743682\n",
      "PERSONALIZATION : 3.3167870036101084\n",
      "COMMUNICATION : 3.2378158844765346\n",
      "HEALTH_AND_FITNESS : 3.0798736462093865\n",
      "PHOTOGRAPHY : 2.944494584837545\n",
      "NEWS_AND_MAGAZINES : 2.7978339350180503\n",
      "SOCIAL : 2.6624548736462095\n",
      "TRAVEL_AND_LOCAL : 2.33528880866426\n",
      "SHOPPING : 2.2450361010830324\n",
      "BOOKS_AND_REFERENCE : 2.1435018050541514\n",
      "DATING : 1.861462093862816\n",
      "VIDEO_PLAYERS : 1.7937725631768955\n",
      "MAPS_AND_NAVIGATION : 1.3989169675090252\n",
      "FOOD_AND_DRINK : 1.2409747292418771\n",
      "EDUCATION : 1.1620036101083033\n",
      "ENTERTAINMENT : 0.9589350180505415\n",
      "LIBRARIES_AND_DEMO : 0.9363718411552346\n",
      "AUTO_AND_VEHICLES : 0.9250902527075812\n",
      "HOUSE_AND_HOME : 0.8235559566787004\n",
      "WEATHER : 0.8009927797833934\n",
      "EVENTS : 0.7107400722021661\n",
      "PARENTING : 0.6543321299638989\n",
      "ART_AND_DESIGN : 0.6430505415162455\n",
      "COMICS : 0.6204873646209386\n",
      "BEAUTY : 0.5979241877256317\n"
     ]
    }
   ],
   "source": [
    "category_android = display_table_descending(android_free, 1)"
   ]
  },
  {
   "cell_type": "markdown",
   "metadata": {},
   "source": [
    "We see that almost 19% are categorized as `FAMILY` and almost 10% are `GAME`. Let's see if this corresponds with the other column under `genre`."
   ]
  },
  {
   "cell_type": "code",
   "execution_count": 22,
   "metadata": {
    "collapsed": false
   },
   "outputs": [
    {
     "name": "stdout",
     "output_type": "stream",
     "text": [
      "Tools : 8.449909747292418\n",
      "Entertainment : 6.069494584837545\n",
      "Education : 5.347472924187725\n",
      "Business : 4.591606498194946\n",
      "Productivity : 3.892148014440433\n",
      "Lifestyle : 3.892148014440433\n",
      "Finance : 3.7003610108303246\n",
      "Medical : 3.531137184115524\n",
      "Sports : 3.463447653429603\n",
      "Personalization : 3.3167870036101084\n",
      "Communication : 3.2378158844765346\n",
      "Action : 3.1024368231046933\n",
      "Health & Fitness : 3.0798736462093865\n",
      "Photography : 2.944494584837545\n",
      "News & Magazines : 2.7978339350180503\n",
      "Social : 2.6624548736462095\n",
      "Travel & Local : 2.3240072202166067\n",
      "Shopping : 2.2450361010830324\n",
      "Books & Reference : 2.1435018050541514\n",
      "Simulation : 2.0419675090252705\n",
      "Dating : 1.861462093862816\n",
      "Arcade : 1.8501805054151623\n",
      "Video Players & Editors : 1.7712093862815883\n",
      "Casual : 1.7599277978339352\n",
      "Maps & Navigation : 1.3989169675090252\n",
      "Food & Drink : 1.2409747292418771\n",
      "Puzzle : 1.128158844765343\n",
      "Racing : 0.9927797833935018\n",
      "Role Playing : 0.9363718411552346\n",
      "Libraries & Demo : 0.9363718411552346\n",
      "Auto & Vehicles : 0.9250902527075812\n",
      "Strategy : 0.9138086642599278\n",
      "House & Home : 0.8235559566787004\n",
      "Weather : 0.8009927797833934\n",
      "Events : 0.7107400722021661\n",
      "Adventure : 0.6768953068592057\n",
      "Comics : 0.6092057761732852\n",
      "Beauty : 0.5979241877256317\n",
      "Art & Design : 0.5979241877256317\n",
      "Parenting : 0.4963898916967509\n",
      "Card : 0.45126353790613716\n",
      "Casino : 0.42870036101083037\n",
      "Trivia : 0.41741877256317694\n",
      "Educational;Education : 0.39485559566787\n",
      "Board : 0.3835740072202166\n",
      "Educational : 0.3722924187725632\n",
      "Education;Education : 0.33844765342960287\n",
      "Word : 0.2594765342960289\n",
      "Casual;Pretend Play : 0.236913357400722\n",
      "Music : 0.2030685920577617\n",
      "Racing;Action & Adventure : 0.16922382671480143\n",
      "Puzzle;Brain Games : 0.16922382671480143\n",
      "Entertainment;Music & Video : 0.16922382671480143\n",
      "Casual;Brain Games : 0.13537906137184114\n",
      "Casual;Action & Adventure : 0.13537906137184114\n",
      "Arcade;Action & Adventure : 0.12409747292418773\n",
      "Action;Action & Adventure : 0.10153429602888085\n",
      "Educational;Pretend Play : 0.09025270758122744\n",
      "Simulation;Action & Adventure : 0.078971119133574\n",
      "Parenting;Education : 0.078971119133574\n",
      "Entertainment;Brain Games : 0.078971119133574\n",
      "Board;Brain Games : 0.078971119133574\n",
      "Parenting;Music & Video : 0.06768953068592057\n",
      "Educational;Brain Games : 0.06768953068592057\n",
      "Casual;Creativity : 0.06768953068592057\n",
      "Art & Design;Creativity : 0.06768953068592057\n",
      "Education;Pretend Play : 0.056407942238267145\n",
      "Role Playing;Pretend Play : 0.04512635379061372\n",
      "Education;Creativity : 0.04512635379061372\n",
      "Role Playing;Action & Adventure : 0.033844765342960284\n",
      "Puzzle;Action & Adventure : 0.033844765342960284\n",
      "Entertainment;Creativity : 0.033844765342960284\n",
      "Entertainment;Action & Adventure : 0.033844765342960284\n",
      "Educational;Creativity : 0.033844765342960284\n",
      "Educational;Action & Adventure : 0.033844765342960284\n",
      "Education;Music & Video : 0.033844765342960284\n",
      "Education;Brain Games : 0.033844765342960284\n",
      "Education;Action & Adventure : 0.033844765342960284\n",
      "Adventure;Action & Adventure : 0.033844765342960284\n",
      "Video Players & Editors;Music & Video : 0.02256317689530686\n",
      "Sports;Action & Adventure : 0.02256317689530686\n",
      "Simulation;Pretend Play : 0.02256317689530686\n",
      "Puzzle;Creativity : 0.02256317689530686\n",
      "Music;Music & Video : 0.02256317689530686\n",
      "Entertainment;Pretend Play : 0.02256317689530686\n",
      "Casual;Education : 0.02256317689530686\n",
      "Board;Action & Adventure : 0.02256317689530686\n",
      "Video Players & Editors;Creativity : 0.01128158844765343\n",
      "Trivia;Education : 0.01128158844765343\n",
      "Travel & Local;Action & Adventure : 0.01128158844765343\n",
      "Tools;Education : 0.01128158844765343\n",
      "Strategy;Education : 0.01128158844765343\n",
      "Strategy;Creativity : 0.01128158844765343\n",
      "Strategy;Action & Adventure : 0.01128158844765343\n",
      "Simulation;Education : 0.01128158844765343\n",
      "Role Playing;Brain Games : 0.01128158844765343\n",
      "Racing;Pretend Play : 0.01128158844765343\n",
      "Puzzle;Education : 0.01128158844765343\n",
      "Parenting;Brain Games : 0.01128158844765343\n",
      "Music & Audio;Music & Video : 0.01128158844765343\n",
      "Lifestyle;Pretend Play : 0.01128158844765343\n",
      "Lifestyle;Education : 0.01128158844765343\n",
      "Health & Fitness;Education : 0.01128158844765343\n",
      "Health & Fitness;Action & Adventure : 0.01128158844765343\n",
      "Entertainment;Education : 0.01128158844765343\n",
      "Communication;Creativity : 0.01128158844765343\n",
      "Comics;Creativity : 0.01128158844765343\n",
      "Casual;Music & Video : 0.01128158844765343\n",
      "Card;Action & Adventure : 0.01128158844765343\n",
      "Books & Reference;Education : 0.01128158844765343\n",
      "Art & Design;Pretend Play : 0.01128158844765343\n",
      "Art & Design;Action & Adventure : 0.01128158844765343\n",
      "Arcade;Pretend Play : 0.01128158844765343\n",
      "Adventure;Education : 0.01128158844765343\n"
     ]
    }
   ],
   "source": [
    "genre_android = display_table_descending(android_free, 9)"
   ]
  },
  {
   "cell_type": "markdown",
   "metadata": {},
   "source": [
    "Here there is more specificity in the `genre` category. Tops genres include `Tools`, `Entertainment`, and `Education`, but those three together only account for about 20% of available genre labels. The difference between the `Category` and `Genre` labels are not readily clear. While we are most interested in the bigger picture, we will focus our analysis solely using the `Category` column.\n",
    "\n",
    "Now let's compare Google Play's landscape to Apple's App Store:"
   ]
  },
  {
   "cell_type": "code",
   "execution_count": 23,
   "metadata": {
    "collapsed": false
   },
   "outputs": [
    {
     "name": "stdout",
     "output_type": "stream",
     "text": [
      "Games : 58.16263190564867\n",
      "Entertainment : 7.883302296710118\n",
      "Photo & Video : 4.9658597144630665\n",
      "Education : 3.662321539416512\n",
      "Social Networking : 3.2898820608317814\n",
      "Shopping : 2.60707635009311\n",
      "Utilities : 2.5139664804469275\n",
      "Sports : 2.1415270018621975\n",
      "Music : 2.0484171322160147\n",
      "Health & Fitness : 2.0173805090006205\n",
      "Productivity : 1.7380509000620732\n",
      "Lifestyle : 1.5828677839851024\n",
      "News : 1.3345747982619491\n",
      "Travel : 1.2414649286157666\n",
      "Finance : 1.1173184357541899\n",
      "Weather : 0.8690254500310366\n",
      "Food & Drink : 0.8069522036002483\n",
      "Reference : 0.5586592178770949\n",
      "Business : 0.5276225946617008\n",
      "Book : 0.4345127250155183\n",
      "Navigation : 0.186219739292365\n",
      "Medical : 0.186219739292365\n",
      "Catalogs : 0.12414649286157665\n"
     ]
    }
   ],
   "source": [
    "genre_ios = display_table_descending(ios_free, 11)"
   ]
  },
  {
   "cell_type": "markdown",
   "metadata": {
    "collapsed": true
   },
   "source": [
    "Among the free English iOS apps, more than a half (58.16%) are games. Entertainment apps are close to 8%, followed by photo and video apps at close 5%. \n",
    "\n",
    "It seems that the App Store (the free English apps) is mostly contains apps that are for fun (games, entertainment, photo and video, social networking, sports, music, etc.), while apps with practical purposes (education, shopping, utilities, productivity, lifestyle, etc.) are less frequent. The Google Play data set seems to have a more balanced offerings of apps by category. We must keep in mind, however, that the most frequent categories may not mean it has the most users. Let's explore the areas where we have the most downloads."
   ]
  },
  {
   "cell_type": "markdown",
   "metadata": {},
   "source": [
    "## Kinds of Apps with the Most Users\n",
    "\n",
    "One way to determine what genres are the most popular - i.e. have the most users - is to calculate the average number of installs of each app genre. For the Google Play data set, this can be found in the `Installs` column. The App Store, however, is missing this information. If we inspect the header row of the iOS data set, the next best thing we can analyze is the `rating_count_tot` or the total number of user ratings.\n",
    "\n",
    "Let's begin by calculating the average number of user ratings per app genre on the App Store. To do that, we'll need to:\n",
    "\n",
    "* Isolate the apps of each genre.\n",
    "* Sum all the user ratings for the apps in each genre.\n",
    "* Determine the total number of user ratings in each genre to calculate the average number of user ratings per app genre.\n",
    "\n",
    "We will do this by creating a **nested loop**. The first loop will enter the genre. Then within each genre we will loop over the number of user ratings to do some calculations.\n",
    "\n",
    "### iOS "
   ]
  },
  {
   "cell_type": "code",
   "execution_count": 24,
   "metadata": {
    "collapsed": false
   },
   "outputs": [],
   "source": [
    "# Generates a frequency table for the prime_genre category column of the iOS\n",
    "genre_ios = freq_table(ios_free, 11)"
   ]
  },
  {
   "cell_type": "markdown",
   "metadata": {},
   "source": [
    "Now we will loop over the genres of the App Store data set. For each iteration or genre, we will initate a variable called `total` with a value of `0`, which will store the sum of the number of user ratings specific to each genre. We will iniate another variabe `len_genre` with a value of `0` to store the total number of apps specfic to each genre."
   ]
  },
  {
   "cell_type": "code",
   "execution_count": 25,
   "metadata": {
    "collapsed": false
   },
   "outputs": [
    {
     "name": "stdout",
     "output_type": "stream",
     "text": [
      "Navigation : 86090.33333333333\n",
      "Reference : 74942.11111111111\n",
      "Social Networking : 71548.34905660378\n",
      "Music : 57326.530303030304\n",
      "Weather : 52279.892857142855\n",
      "Book : 39758.5\n",
      "Food & Drink : 33333.92307692308\n",
      "Finance : 31467.944444444445\n",
      "Photo & Video : 28441.54375\n",
      "Travel : 28243.8\n",
      "Shopping : 26919.690476190477\n",
      "Health & Fitness : 23298.015384615384\n",
      "Sports : 23008.898550724636\n",
      "Games : 22788.6696905016\n",
      "News : 21248.023255813954\n",
      "Productivity : 21028.410714285714\n",
      "Utilities : 18684.456790123455\n",
      "Lifestyle : 16485.764705882353\n",
      "Entertainment : 14029.830708661417\n",
      "Business : 7491.117647058823\n",
      "Education : 7003.983050847458\n",
      "Catalogs : 4004.0\n",
      "Medical : 612.0\n"
     ]
    }
   ],
   "source": [
    "genre_ratings_ios = {}\n",
    "for genre in genre_ios:\n",
    "    total = 0\n",
    "    len_genre = 0\n",
    "    for row in ios_free:\n",
    "        genre_app = row[11]\n",
    "        if genre_app == genre:\n",
    "            num_user_ratings = float(row[5])\n",
    "            total += num_user_ratings\n",
    "            len_genre += 1\n",
    "    avg_num_ratings = total / len_genre\n",
    "    genre_ratings_ios[genre] = avg_num_ratings\n",
    "#    print(genre, ':', avg_num_ratings)\n",
    "\n",
    "# print(genre_ratings_ios)\n",
    "\n",
    "# To display in descending order\n",
    "num_ratings_display = []\n",
    "for key in genre_ratings_ios:\n",
    "    key_value_as_tuple = (genre_ratings_ios[key], key)\n",
    "    num_ratings_display.append(key_value_as_tuple)\n",
    "        \n",
    "table_sorted = sorted(num_ratings_display, reverse = True)\n",
    "for entry in table_sorted:\n",
    "    print(entry[1], ':', entry[0])"
   ]
  },
  {
   "cell_type": "markdown",
   "metadata": {},
   "source": [
    "We see `Navigation` has the highest number of user ratings in the App Store.\n",
    "\n",
    "But let's go deeper. Which `Navigation` apps are the most widely rated? Let's take a closer look..."
   ]
  },
  {
   "cell_type": "code",
   "execution_count": 26,
   "metadata": {
    "collapsed": false
   },
   "outputs": [
    {
     "name": "stdout",
     "output_type": "stream",
     "text": [
      "Waze - GPS Navigation, Maps & Real-time Traffic : 345046\n",
      "Google Maps - Navigation & Transit : 154911\n",
      "Geocaching® : 12811\n",
      "CoPilot GPS – Car Navigation & Offline Maps : 3582\n",
      "ImmobilienScout24: Real Estate Search in Germany : 187\n",
      "Railway Route Search : 5\n"
     ]
    }
   ],
   "source": [
    "for row in ios_free:\n",
    "    if row[-5] == 'Navigation':\n",
    "        print(row[1], ':', row[5]) # print name and number of ratings"
   ]
  },
  {
   "cell_type": "markdown",
   "metadata": {},
   "source": [
    "Waze and Google Maps have the highest number of user ratings. Combined, they surpass half of all `Navigation` apps."
   ]
  },
  {
   "cell_type": "code",
   "execution_count": 27,
   "metadata": {
    "collapsed": false
   },
   "outputs": [
    {
     "name": "stdout",
     "output_type": "stream",
     "text": [
      "Bible : 985920\n",
      "Dictionary.com Dictionary & Thesaurus : 200047\n",
      "Dictionary.com Dictionary & Thesaurus for iPad : 54175\n",
      "Google Translate : 26786\n",
      "Muslim Pro: Ramadan 2017 Prayer Times, Azan, Quran : 18418\n",
      "New Furniture Mods - Pocket Wiki & Game Tools for Minecraft PC Edition : 17588\n",
      "Merriam-Webster Dictionary : 16849\n",
      "Night Sky : 12122\n",
      "City Maps for Minecraft PE - The Best Maps for Minecraft Pocket Edition (MCPE) : 8535\n",
      "LUCKY BLOCK MOD ™ for Minecraft PC Edition - The Best Pocket Wiki & Mods Installer Tools : 4693\n",
      "GUNS MODS for Minecraft PC Edition - Mods Tools : 1497\n",
      "Guides for Pokémon GO - Pokemon GO News and Cheats : 826\n",
      "WWDC : 762\n",
      "Horror Maps for Minecraft PE - Download The Scariest Maps for Minecraft Pocket Edition (MCPE) Free : 718\n",
      "VPN Express : 14\n",
      "Real Bike Traffic Rider Virtual Reality Glasses : 8\n",
      "教えて!goo : 0\n",
      "Jishokun-Japanese English Dictionary & Translator : 0\n"
     ]
    }
   ],
   "source": [
    "for row in ios_free:\n",
    "    if row[-5] == 'Reference':\n",
    "        print(row[1], ':', row[5]) # print name and number of ratings"
   ]
  },
  {
   "cell_type": "markdown",
   "metadata": {},
   "source": [
    "We see that the Bible, Dictionary.com and the Google Translate app dominate this space."
   ]
  },
  {
   "cell_type": "code",
   "execution_count": 28,
   "metadata": {
    "collapsed": false
   },
   "outputs": [
    {
     "name": "stdout",
     "output_type": "stream",
     "text": [
      "Facebook : 2974676\n",
      "Pinterest : 1061624\n",
      "Skype for iPhone : 373519\n",
      "Messenger : 351466\n",
      "Tumblr : 334293\n",
      "WhatsApp Messenger : 287589\n",
      "Kik : 260965\n",
      "ooVoo – Free Video Call, Text and Voice : 177501\n",
      "TextNow - Unlimited Text + Calls : 164963\n",
      "Viber Messenger – Text & Call : 164249\n",
      "Followers - Social Analytics For Instagram : 112778\n",
      "MeetMe - Chat and Meet New People : 97072\n",
      "We Heart It - Fashion, wallpapers, quotes, tattoos : 90414\n",
      "InsTrack for Instagram - Analytics Plus More : 85535\n",
      "Tango - Free Video Call, Voice and Chat : 75412\n",
      "LinkedIn : 71856\n",
      "Match™ - #1 Dating App. : 60659\n",
      "Skype for iPad : 60163\n",
      "POF - Best Dating App for Conversations : 52642\n",
      "Timehop : 49510\n",
      "Find My Family, Friends & iPhone - Life360 Locator : 43877\n",
      "Whisper - Share, Express, Meet : 39819\n",
      "Hangouts : 36404\n",
      "LINE PLAY - Your Avatar World : 34677\n",
      "WeChat : 34584\n",
      "Badoo - Meet New People, Chat, Socialize. : 34428\n",
      "Followers + for Instagram - Follower Analytics : 28633\n",
      "GroupMe : 28260\n",
      "Marco Polo Video Walkie Talkie : 27662\n",
      "Miitomo : 23965\n",
      "SimSimi : 23530\n",
      "Grindr - Gay and same sex guys chat, meet and date : 23201\n",
      "Wishbone - Compare Anything : 20649\n",
      "imo video calls and chat : 18841\n",
      "After School - Funny Anonymous School News : 18482\n",
      "Quick Reposter - Repost, Regram and Reshare Photos : 17694\n",
      "Weibo HD : 16772\n",
      "Repost for Instagram : 15185\n",
      "Live.me – Live Video Chat & Make Friends Nearby : 14724\n",
      "Nextdoor : 14402\n",
      "Followers Analytics for Instagram - InstaReport : 13914\n",
      "YouNow: Live Stream Video Chat : 12079\n",
      "FollowMeter for Instagram - Followers Tracking : 11976\n",
      "LINE : 11437\n",
      "eHarmony™ Dating App - Meet Singles : 11124\n",
      "Discord - Chat for Gamers : 9152\n",
      "QQ : 9109\n",
      "Telegram Messenger : 7573\n",
      "Weibo : 7265\n",
      "Periscope - Live Video Streaming Around the World : 6062\n",
      "Chat for Whatsapp - iPad Version : 5060\n",
      "QQ HD : 5058\n",
      "Followers Analysis Tool For Instagram App Free : 4253\n",
      "live.ly - live video streaming : 4145\n",
      "Houseparty - Group Video Chat : 3991\n",
      "SOMA Messenger : 3232\n",
      "Monkey : 3060\n",
      "Down To Lunch : 2535\n",
      "Flinch - Video Chat Staring Contest : 2134\n",
      "Highrise - Your Avatar Community : 2011\n",
      "LOVOO - Dating Chat : 1985\n",
      "PlayStation®Messages : 1918\n",
      "BOO! - Video chat camera with filters & stickers : 1805\n",
      "Qzone : 1649\n",
      "Chatous - Chat with new people : 1609\n",
      "Kiwi - Q&A : 1538\n",
      "GhostCodes - a discovery app for Snapchat : 1313\n",
      "Jodel : 1193\n",
      "FireChat : 1037\n",
      "Google Duo - simple video calling : 1033\n",
      "Fiesta by Tango - Chat & Meet New People : 885\n",
      "Google Allo — smart messaging : 862\n",
      "Peach — share vividly : 727\n",
      "Hey! VINA - Where Women Meet New Friends : 719\n",
      "Battlefield™ Companion : 689\n",
      "All Devices for WhatsApp - Messenger for iPad : 682\n",
      "Chat for Pokemon Go - GoChat : 500\n",
      "IAmNaughty – Dating App to Meet New People Online : 463\n",
      "Qzone HD : 458\n",
      "Zenly - Locate your friends in realtime : 427\n",
      "League of Legends Friends : 420\n",
      "豆瓣 : 407\n",
      "Candid - Speak Your Mind Freely : 398\n",
      "知乎 : 397\n",
      "Selfeo : 366\n",
      "Fake-A-Location Free ™ : 354\n",
      "Popcorn Buzz - Free Group Calls : 281\n",
      "Fam — Group video calling for iMessage : 279\n",
      "QQ International : 274\n",
      "Ameba : 269\n",
      "SoundCloud Pulse: for creators : 240\n",
      "Tantan : 235\n",
      "Cougar Dating & Life Style App for Mature Women : 213\n",
      "Rawr Messenger - Dab your chat : 180\n",
      "WhenToPost: Best Time to Post Photos for Instagram : 158\n",
      "Inke—Broadcast an amazing life : 147\n",
      "Mustknow - anonymous video Q&A : 53\n",
      "CTFxCmoji : 39\n",
      "Lobi : 36\n",
      "Chain: Collaborate On MyVideo Story/Group Video : 35\n",
      "botman - Real time video chat : 7\n",
      "BestieBox : 0\n",
      "MATCH ON LINE chat : 0\n",
      "niconico ch : 0\n",
      "LINE BLOG : 0\n",
      "bit-tube - Live Stream Video Chat : 0\n"
     ]
    }
   ],
   "source": [
    "for row in ios_free:\n",
    "    if row[-5] == 'Social Networking':\n",
    "        print(row[1], ':', row[5]) # print name and number of ratings"
   ]
  },
  {
   "cell_type": "markdown",
   "metadata": {},
   "source": [
    "We see the same domination we see in `Social Networking` as we do in `Navigation`. A select few dominate the space: Facebook, Pinterest, Skype, Messenger, Tumblr, and Whatsapp."
   ]
  },
  {
   "cell_type": "code",
   "execution_count": 29,
   "metadata": {
    "collapsed": false
   },
   "outputs": [
    {
     "name": "stdout",
     "output_type": "stream",
     "text": [
      "Pandora - Music & Radio : 1126879\n",
      "Spotify Music : 878563\n",
      "Shazam - Discover music, artists, videos & lyrics : 402925\n",
      "iHeartRadio – Free Music & Radio Stations : 293228\n",
      "SoundCloud - Music & Audio : 135744\n",
      "Magic Piano by Smule : 131695\n",
      "Smule Sing! : 119316\n",
      "TuneIn Radio - MLB NBA Audiobooks Podcasts Music : 110420\n",
      "Amazon Music : 106235\n",
      "SoundHound Song Search & Music Player : 82602\n",
      "Sonos Controller : 48905\n",
      "Bandsintown Concerts : 30845\n",
      "Karaoke - Sing Karaoke, Unlimited Songs! : 28606\n",
      "My Mixtapez Music : 26286\n",
      "Sing Karaoke Songs Unlimited with StarMaker : 26227\n",
      "Ringtones for iPhone & Ringtone Maker : 25403\n",
      "Musi - Unlimited Music For YouTube : 25193\n",
      "AutoRap by Smule : 18202\n",
      "Spinrilla - Mixtapes For Free : 15053\n",
      "Napster - Top Music & Radio : 14268\n",
      "edjing Mix:DJ turntable to remix and scratch music : 13580\n",
      "Free Music - MP3 Streamer & Playlist Manager Pro : 13443\n",
      "Free Piano app by Yokee : 13016\n",
      "Google Play Music : 10118\n",
      "Certified Mixtapes - Hip Hop Albums & Mixtapes : 9975\n",
      "TIDAL : 7398\n",
      "YouTube Music : 7109\n",
      "Nicki Minaj: The Empire : 5196\n",
      "Sounds app - Music And Friends : 5126\n",
      "SongFlip - Free Music Streamer : 5004\n",
      "Simple Radio - Live AM & FM Radio Stations : 4787\n",
      "Deezer - Listen to your Favorite Music & Playlists : 4677\n",
      "Ringtones for iPhone with Ringtone Maker : 4013\n",
      "Bose SoundTouch : 3687\n",
      "Amazon Alexa : 3018\n",
      "DatPiff : 2815\n",
      "Trebel Music - Unlimited Music Downloader : 2570\n",
      "Free Music Play - Mp3 Streamer & Player : 2496\n",
      "Acapella from PicPlayPost : 2487\n",
      "Coach Guitar - Lessons & Easy Tabs For Beginners : 2416\n",
      "Musicloud - MP3 and FLAC Music Player for Cloud Platforms. : 2211\n",
      "Piano - Play Keyboard Music Games with Magic Tiles : 1636\n",
      "Boom: Best Equalizer & Magical Surround Sound : 1375\n",
      "Music Freedom - Unlimited Free MP3 Music Streaming : 1246\n",
      "AmpMe - A Portable Social Party Music Speaker : 1047\n",
      "Medly - Music Maker : 933\n",
      "Bose Connect : 915\n",
      "Music Memos : 909\n",
      "UE BOOM : 612\n",
      "LiveMixtapes : 555\n",
      "NOISE : 355\n",
      "MP3 Music Player & Streamer for Clouds : 329\n",
      "Musical Video Maker - Create Music clips lip sync : 320\n",
      "Cloud Music Player - Downloader & Playlist Manager : 319\n",
      "Remixlive - Remix loops with pads : 288\n",
      "QQ音乐HD : 224\n",
      "Blocs Wave - Make & Record Music : 158\n",
      "PlayGround • Music At Your Fingertips : 150\n",
      "Music and Chill : 135\n",
      "The Singing Machine Mobile Karaoke App : 130\n",
      "radio.de - Der Radioplayer : 64\n",
      "Free Music -  Player & Streamer  for Dropbox, OneDrive & Google Drive : 46\n",
      "NRJ Radio : 38\n",
      "Smart Music: Streaming Videos and Radio : 17\n",
      "BOSS Tuner : 13\n",
      "PetitLyrics : 0\n"
     ]
    }
   ],
   "source": [
    "for row in ios_free:\n",
    "    if row[-5] == 'Music':\n",
    "        print(row[1], ':', row[5]) # print name and number of ratings"
   ]
  },
  {
   "cell_type": "markdown",
   "metadata": {},
   "source": [
    "We also observe a coninued dominance in `Music` with `Pandora`, `Spotify` and `Shazam`."
   ]
  },
  {
   "cell_type": "markdown",
   "metadata": {},
   "source": [
    "As a general trend, the average number of ratings seem to be skewed by a select few apps in each genre, while other barely, if at all, pass the 10,000 user ratings mark. We could analyze this a step further and remove the extremely popular apps, but let's save this for later."
   ]
  },
  {
   "cell_type": "markdown",
   "metadata": {},
   "source": [
    "Based on the information that most of the apps offered in the App Store  are for fun (games, entertainment, photo and video, social networking, sports, music, etc.) combined with the new knowledge that `Navigation`, `Reference`, `Social Networking`, `Music`, and `Weather` are the top genres, I would target app development in the Reference Category primarily. There seems to be promise around the Bible - and combining it with 'Books' could be a winner. We could develop an app giving spiritual quotes every day, 'Bible for Children' app where main stories are shortened accompanied with illustrations, or perhaps a social network or people who would like to study the Bible together.\n",
    "\n",
    "It seems attractive to put effort into utilitarian apps - such as weather and navigation since they have a majority of user ratings - but the average time spent on these apps would seem inconsequential for ad targeting due to the limited amount of time focused on these apps at a time. It may also require us to connect our apps to non-free live weather data APIs.\n",
    "\n",
    "Social Networking apps also seem attractive, but unless the idea is novel, more convenient, and latches on quickly, monopolies such as Facebook and Pinterest will dominate the space. The barrier to entry is extremely high.\n",
    "\n",
    "Let's dissect Google Play."
   ]
  },
  {
   "cell_type": "markdown",
   "metadata": {},
   "source": [
    "### Google Play\n",
    "For the android data, we actually have the number of installs. We, however, do not have precise data on the number of installs - they are range. Let's assume that those with 1,000,000+ installs are 1,000,000 and those with 100,000 installs are 100,000. This way we can (albeit artificially) create a way to compate the app installs to each other. We don't have specifics on the number of installs, so this assumption is as good as we are going to get with the data that we have:"
   ]
  },
  {
   "cell_type": "code",
   "execution_count": 30,
   "metadata": {
    "collapsed": false
   },
   "outputs": [
    {
     "name": "stdout",
     "output_type": "stream",
     "text": [
      "1,000,000+ : 15.726534296028879\n",
      "100,000+ : 11.552346570397113\n",
      "10,000,000+ : 10.548285198555957\n",
      "10,000+ : 10.198555956678701\n",
      "1,000+ : 8.393501805054152\n",
      "100+ : 6.915613718411552\n",
      "5,000,000+ : 6.825361010830325\n",
      "500,000+ : 5.561823104693141\n",
      "50,000+ : 4.7721119133574\n",
      "5,000+ : 4.512635379061372\n",
      "10+ : 3.5424187725631766\n",
      "500+ : 3.2490974729241873\n",
      "50,000,000+ : 2.3014440433213\n",
      "100,000,000+ : 2.1322202166064983\n",
      "50+ : 1.917870036101083\n",
      "5+ : 0.78971119133574\n",
      "1+ : 0.5076714801444043\n",
      "500,000,000+ : 0.2707581227436823\n",
      "1,000,000,000+ : 0.22563176895306858\n",
      "0+ : 0.04512635379061372\n",
      "0 : 0.01128158844765343\n"
     ]
    }
   ],
   "source": [
    "display_table_descending(android_free, 5) # Installs column"
   ]
  },
  {
   "cell_type": "markdown",
   "metadata": {},
   "source": [
    "15.7% have over one million installs per each app, 11.55% have over 100,000+ and about 10% of apps have each over 10 million installs and 10,000. \n",
    "\n",
    "Let's fo further. But to do so, we'll have to convert each install number from a string to a float. This means we will need to remove the commas and the plus characters, otherwise the conversion will fail an raise an error.\n",
    "\n",
    "To remove characters from strings, we use `str.replace(old, new)`. Just like `list.append()`, `str.replace(old, new)` is a kind of function called a method. `str.replace()` takes in two parameters, `old` and `new`, and replaces all occurences of `old` with the `new`."
   ]
  },
  {
   "cell_type": "code",
   "execution_count": 31,
   "metadata": {
    "collapsed": false
   },
   "outputs": [
    {
     "name": "stdout",
     "output_type": "stream",
     "text": [
      "COMMUNICATION : 38456119.167247385\n",
      "VIDEO_PLAYERS : 24727872.452830188\n",
      "SOCIAL : 23253652.127118643\n",
      "PHOTOGRAPHY : 17840110.40229885\n",
      "PRODUCTIVITY : 16787331.344927534\n",
      "GAME : 15588015.603248259\n",
      "TRAVEL_AND_LOCAL : 13984077.710144928\n",
      "ENTERTAINMENT : 11640705.88235294\n",
      "TOOLS : 10801391.298666667\n",
      "NEWS_AND_MAGAZINES : 9549178.467741935\n",
      "BOOKS_AND_REFERENCE : 8767811.894736841\n",
      "SHOPPING : 7036877.311557789\n",
      "PERSONALIZATION : 5201482.6122448975\n",
      "WEATHER : 5074486.197183099\n",
      "HEALTH_AND_FITNESS : 4188821.9853479853\n",
      "MAPS_AND_NAVIGATION : 4056941.7741935486\n",
      "FAMILY : 3695641.8198090694\n",
      "SPORTS : 3638640.1428571427\n",
      "ART_AND_DESIGN : 1986335.0877192982\n",
      "FOOD_AND_DRINK : 1924897.7363636363\n",
      "EDUCATION : 1833495.145631068\n",
      "BUSINESS : 1712290.1474201474\n",
      "LIFESTYLE : 1437816.2687861272\n",
      "FINANCE : 1387692.475609756\n",
      "HOUSE_AND_HOME : 1331540.5616438356\n",
      "DATING : 854028.8303030303\n",
      "COMICS : 817657.2727272727\n",
      "AUTO_AND_VEHICLES : 647317.8170731707\n",
      "LIBRARIES_AND_DEMO : 638503.734939759\n",
      "PARENTING : 542603.6206896552\n",
      "BEAUTY : 513151.88679245283\n",
      "EVENTS : 253542.22222222222\n",
      "MEDICAL : 120550.61980830671\n"
     ]
    }
   ],
   "source": [
    "category_android = freq_table(android_free, 1)\n",
    "\n",
    "category_installs_android = {}\n",
    "\n",
    "for category in category_android:\n",
    "    total = 0\n",
    "    len_category = 0\n",
    "    for row in android_free:\n",
    "        category_app = row[1]\n",
    "        if category_app == category:            \n",
    "            n_installs = row[5]\n",
    "            n_installs = n_installs.replace(',', '')\n",
    "            n_installs = n_installs.replace('+', '')\n",
    "            total += float(n_installs)\n",
    "            len_category += 1\n",
    "    avg_installs = total / len_category\n",
    "    category_installs_android[category] = avg_installs\n",
    "    \n",
    "# print(category_installs_android)\n",
    "    \n",
    "# To display in descending order\n",
    "installs_display = []\n",
    "for key in category_installs_android:\n",
    "    key_value_as_tuple = (category_installs_android[key], key)\n",
    "    installs_display.append(key_value_as_tuple)\n",
    "        \n",
    "table_sorted = sorted(installs_display, reverse = True)\n",
    "for entry in table_sorted:\n",
    "    print(entry[1], ':', entry[0])"
   ]
  },
  {
   "cell_type": "code",
   "execution_count": 32,
   "metadata": {
    "collapsed": false
   },
   "outputs": [
    {
     "name": "stdout",
     "output_type": "stream",
     "text": [
      "WhatsApp Messenger : 1,000,000,000+\n",
      "Messenger – Text and Video Chat for Free : 1,000,000,000+\n",
      "Skype - free IM & video calls : 1,000,000,000+\n",
      "Google Chrome: Fast & Secure : 1,000,000,000+\n",
      "Gmail : 1,000,000,000+\n",
      "Hangouts : 1,000,000,000+\n"
     ]
    }
   ],
   "source": [
    "for row in android_free:\n",
    "    if row[1] == 'COMMUNICATION' and (row[5] == '1,000,000,000+'):\n",
    "        print(row[0], ':', row[5])"
   ]
  },
  {
   "cell_type": "code",
   "execution_count": 33,
   "metadata": {
    "collapsed": false
   },
   "outputs": [
    {
     "name": "stdout",
     "output_type": "stream",
     "text": [
      "Google Duo - High Quality Video Calls : 500,000,000+\n",
      "imo free video calls and chat : 500,000,000+\n",
      "LINE: Free Calls & Messages : 500,000,000+\n",
      "UC Browser - Fast Download Private & Secure : 500,000,000+\n",
      "Viber Messenger : 500,000,000+\n"
     ]
    }
   ],
   "source": [
    "for row in android_free:\n",
    "    if row[1] == 'COMMUNICATION' and (row[5] == '500,000,000+'):\n",
    "        print(row[0], ':', row[5])"
   ]
  },
  {
   "cell_type": "code",
   "execution_count": 34,
   "metadata": {
    "collapsed": false
   },
   "outputs": [
    {
     "name": "stdout",
     "output_type": "stream",
     "text": [
      "imo beta free calls and text : 100,000,000+\n",
      "Android Messages : 100,000,000+\n",
      "Who : 100,000,000+\n",
      "GO SMS Pro - Messenger, Free Themes, Emoji : 100,000,000+\n",
      "Firefox Browser fast & private : 100,000,000+\n",
      "Messenger Lite: Free Calls & Messages : 100,000,000+\n",
      "Kik : 100,000,000+\n",
      "KakaoTalk: Free Calls & Text : 100,000,000+\n",
      "Opera Mini - fast web browser : 100,000,000+\n",
      "Opera Browser: Fast and Secure : 100,000,000+\n",
      "Telegram : 100,000,000+\n",
      "Truecaller: Caller ID, SMS spam blocking & Dialer : 100,000,000+\n",
      "UC Browser Mini -Tiny Fast Private & Secure : 100,000,000+\n",
      "WeChat : 100,000,000+\n",
      "Yahoo Mail – Stay Organized : 100,000,000+\n",
      "BBM - Free Calls & Messages : 100,000,000+\n"
     ]
    }
   ],
   "source": [
    "for row in android_free:\n",
    "    if row[1] == 'COMMUNICATION' and (row[5] == '100,000,000+'):\n",
    "        print(row[0], ':', row[5])"
   ]
  },
  {
   "cell_type": "markdown",
   "metadata": {},
   "source": [
    "On average, communication apps have the most installs at 38,456,119. A few apps doinate this space with over one billion installs (WhatsApp, Facebook Messenger, Skype, Google Chrome, Gmail, and Hangouts), and a few others with over 100 and 500 million installs.\n",
    "\n",
    "Let's try to grasp the monopoly on the apps that have over 100 million installs. If we remove them, the average number of installs goes down dramatically:"
   ]
  },
  {
   "cell_type": "code",
   "execution_count": 35,
   "metadata": {
    "collapsed": false
   },
   "outputs": [
    {
     "data": {
      "text/plain": [
       "3603485.3884615386"
      ]
     },
     "execution_count": 35,
     "metadata": {},
     "output_type": "execute_result"
    }
   ],
   "source": [
    "under_100_mil = []\n",
    "\n",
    "for row in android_free:\n",
    "    n_installs = row[5]\n",
    "    n_installs = n_installs.replace(',', '')\n",
    "    n_installs = n_installs.replace('+', '')\n",
    "    if (row[1] == 'COMMUNICATION') and (float(n_installs) < 100000000):\n",
    "        under_100_mil.append(float(n_installs))\n",
    "        \n",
    "sum(under_100_mil) / len(under_100_mil)"
   ]
  },
  {
   "cell_type": "markdown",
   "metadata": {},
   "source": [
    "We see that removing the `COMMUNICATION` apps with over 100 million installs, brings the average number of installs to just above 3.5 million (about a 10 fold decrease - from 38,456,119).\n",
    "\n",
    "Let's look at the other top categories including `VIDEO_PLAYERS`, `SOCIAL`, and `PHOTOGRAPHY`:"
   ]
  },
  {
   "cell_type": "code",
   "execution_count": 36,
   "metadata": {
    "collapsed": false
   },
   "outputs": [
    {
     "name": "stdout",
     "output_type": "stream",
     "text": [
      "YouTube : 1,000,000,000+\n",
      "Google Play Movies & TV : 1,000,000,000+\n"
     ]
    }
   ],
   "source": [
    "for row in android_free:\n",
    "    if row[1] == 'VIDEO_PLAYERS' and (row[5] == '1,000,000,000+'):\n",
    "        print(row[0], ':', row[5])"
   ]
  },
  {
   "cell_type": "code",
   "execution_count": 37,
   "metadata": {
    "collapsed": false
   },
   "outputs": [
    {
     "name": "stdout",
     "output_type": "stream",
     "text": [
      "MX Player : 500,000,000+\n"
     ]
    }
   ],
   "source": [
    "for row in android_free:\n",
    "    if row[1] == 'VIDEO_PLAYERS' and (row[5] == '500,000,000+'):\n",
    "        print(row[0], ':', row[5])"
   ]
  },
  {
   "cell_type": "code",
   "execution_count": 38,
   "metadata": {
    "collapsed": false
   },
   "outputs": [
    {
     "name": "stdout",
     "output_type": "stream",
     "text": [
      "Motorola Gallery : 100,000,000+\n",
      "VLC for Android : 100,000,000+\n",
      "Dubsmash : 100,000,000+\n",
      "VivaVideo - Video Editor & Photo Movie : 100,000,000+\n",
      "VideoShow-Video Editor, Video Maker, Beauty Camera : 100,000,000+\n",
      "Motorola FM Radio : 100,000,000+\n"
     ]
    }
   ],
   "source": [
    "for row in android_free:\n",
    "    if row[1] == 'VIDEO_PLAYERS' and (row[5] == '100,000,000+'):\n",
    "        print(row[0], ':', row[5])"
   ]
  },
  {
   "cell_type": "markdown",
   "metadata": {},
   "source": [
    "The most popular are YouTube and Google Play Movies & TV with over 1 billion installs. MX Player is third with over 500 million and a handfull qualify for over 100 million installs."
   ]
  },
  {
   "cell_type": "code",
   "execution_count": 39,
   "metadata": {
    "collapsed": false
   },
   "outputs": [
    {
     "name": "stdout",
     "output_type": "stream",
     "text": [
      "Facebook : 1,000,000,000+\n",
      "Google+ : 1,000,000,000+\n",
      "Instagram : 1,000,000,000+\n"
     ]
    }
   ],
   "source": [
    "for row in android_free:\n",
    "    if row[1] == 'SOCIAL' and (row[5] == '1,000,000,000+'):\n",
    "        print(row[0], ':', row[5])"
   ]
  },
  {
   "cell_type": "code",
   "execution_count": 40,
   "metadata": {
    "collapsed": false
   },
   "outputs": [
    {
     "name": "stdout",
     "output_type": "stream",
     "text": [
      "Facebook Lite : 500,000,000+\n",
      "Snapchat : 500,000,000+\n"
     ]
    }
   ],
   "source": [
    "for row in android_free:\n",
    "    if row[1] == 'SOCIAL' and (row[5] == '500,000,000+'):\n",
    "        print(row[0], ':', row[5])"
   ]
  },
  {
   "cell_type": "code",
   "execution_count": 41,
   "metadata": {
    "collapsed": false
   },
   "outputs": [
    {
     "name": "stdout",
     "output_type": "stream",
     "text": [
      "Tumblr : 100,000,000+\n",
      "Pinterest : 100,000,000+\n",
      "Badoo - Free Chat & Dating App : 100,000,000+\n",
      "Tango - Live Video Broadcast : 100,000,000+\n",
      "LinkedIn : 100,000,000+\n",
      "Tik Tok - including musical.ly : 100,000,000+\n",
      "BIGO LIVE - Live Stream : 100,000,000+\n",
      "VK : 100,000,000+\n"
     ]
    }
   ],
   "source": [
    "for row in android_free:\n",
    "    if row[1] == 'SOCIAL' and (row[5] == '100,000,000+'):\n",
    "        print(row[0], ':', row[5])"
   ]
  },
  {
   "cell_type": "markdown",
   "metadata": {},
   "source": [
    "Facebook, Google+, and Instagram dominate the space with over 1 billion downloads. Facebook Lite and Snapchat have over 500 million and a handful, including Tumblr, Pinterest, LinkedIn, and Tik Tok, have over 100 million installs."
   ]
  },
  {
   "cell_type": "code",
   "execution_count": 42,
   "metadata": {
    "collapsed": false
   },
   "outputs": [
    {
     "name": "stdout",
     "output_type": "stream",
     "text": [
      "Google Photos : 1,000,000,000+\n"
     ]
    }
   ],
   "source": [
    "for row in android_free:\n",
    "    if row[1] == 'PHOTOGRAPHY' and (row[5] == '1,000,000,000+'):\n",
    "        print(row[0], ':', row[5])"
   ]
  },
  {
   "cell_type": "code",
   "execution_count": 43,
   "metadata": {
    "collapsed": false
   },
   "outputs": [],
   "source": [
    "for row in android_free:\n",
    "    if row[1] == 'PHOTOGRAPHY' and (row[5] == '500,000,000+'):\n",
    "        print(row[0], ':', row[5])"
   ]
  },
  {
   "cell_type": "code",
   "execution_count": 44,
   "metadata": {
    "collapsed": false
   },
   "outputs": [
    {
     "name": "stdout",
     "output_type": "stream",
     "text": [
      "B612 - Beauty & Filter Camera : 100,000,000+\n",
      "YouCam Makeup - Magic Selfie Makeovers : 100,000,000+\n",
      "Sweet Selfie - selfie camera, beauty cam, photo edit : 100,000,000+\n",
      "Retrica : 100,000,000+\n",
      "Photo Editor Pro : 100,000,000+\n",
      "BeautyPlus - Easy Photo Editor & Selfie Camera : 100,000,000+\n",
      "PicsArt Photo Studio: Collage Maker & Pic Editor : 100,000,000+\n",
      "Photo Collage Editor : 100,000,000+\n",
      "Z Camera - Photo Editor, Beauty Selfie, Collage : 100,000,000+\n",
      "PhotoGrid: Video & Pic Collage Maker, Photo Editor : 100,000,000+\n",
      "Candy Camera - selfie, beauty camera, photo editor : 100,000,000+\n",
      "YouCam Perfect - Selfie Photo Editor : 100,000,000+\n",
      "Camera360: Selfie Photo Editor with Funny Sticker : 100,000,000+\n",
      "S Photo Editor - Collage Maker , Photo Collage : 100,000,000+\n",
      "AR effect : 100,000,000+\n",
      "Cymera Camera- Photo Editor, Filter,Collage,Layout : 100,000,000+\n",
      "LINE Camera - Photo editor : 100,000,000+\n",
      "Photo Editor Collage Maker Pro : 100,000,000+\n"
     ]
    }
   ],
   "source": [
    "for row in android_free:\n",
    "    if row[1] == 'PHOTOGRAPHY' and (row[5] == '100,000,000+'):\n",
    "        print(row[0], ':', row[5])"
   ]
  },
  {
   "cell_type": "markdown",
   "metadata": {},
   "source": [
    "Again, we see domination with Google Photos. We do not, however, see any over 500 million and a substantial handful over 100 million. This could be a sweet spot for the company to develop a photography app. It could be an editor or personal photo journal. This space is pretty saturated, so it might make more sense to look at categories that have less installs.\n",
    "\n",
    "We need to keep in mind that more installs does not necessarily mean that a lot of people use it and/or spend a lot of time on the app.\n",
    "\n",
    "Let's look at categories that by its nature, require a little more time on the app. We have already discussed photography - journals or editors. This type of app would require some minutes to be on. This might be another advantage to developing a photography app - more minutes spent on the app will mean more opportunties for the user to see an ad.\n",
    "\n",
    "But let's look at other categories such as `PRODUCTIVITY`, `NEWS_AND_MAGAZINES` and `BOOKS_AND_REFERENCE`."
   ]
  },
  {
   "cell_type": "code",
   "execution_count": 45,
   "metadata": {
    "collapsed": false
   },
   "outputs": [
    {
     "name": "stdout",
     "output_type": "stream",
     "text": [
      "Microsoft Word : 500,000,000+\n",
      "Microsoft Outlook : 100,000,000+\n",
      "Microsoft OneDrive : 100,000,000+\n",
      "Microsoft OneNote : 100,000,000+\n",
      "Google Keep : 100,000,000+\n",
      "ES File Explorer File Manager : 100,000,000+\n",
      "Dropbox : 500,000,000+\n",
      "Google Docs : 100,000,000+\n",
      "Microsoft PowerPoint : 100,000,000+\n",
      "Samsung Notes : 100,000,000+\n",
      "SwiftKey Keyboard : 100,000,000+\n",
      "Google Drive : 1,000,000,000+\n",
      "Adobe Acrobat Reader : 100,000,000+\n",
      "Google Sheets : 100,000,000+\n",
      "Microsoft Excel : 100,000,000+\n",
      "WPS Office - Word, Docs, PDF, Note, Slide & Sheet : 100,000,000+\n",
      "Google Slides : 100,000,000+\n",
      "ColorNote Notepad Notes : 100,000,000+\n",
      "Evernote – Organizer, Planner for Notes & Memos : 100,000,000+\n",
      "Google Calendar : 500,000,000+\n",
      "Cloud Print : 500,000,000+\n",
      "CamScanner - Phone PDF Creator : 100,000,000+\n"
     ]
    }
   ],
   "source": [
    "for row in android_free:\n",
    "    if row[1] == 'PRODUCTIVITY' and (row[5] == '1,000,000,000+'\n",
    "                             or row[5] == '500,000,000+'\n",
    "                             or row[5] == '100,000,000+'):\n",
    "        print(row[0], ':', row[5])"
   ]
  },
  {
   "cell_type": "markdown",
   "metadata": {},
   "source": [
    "These productivity apps seem like they all have a clear purpose where users would be 'in' and then 'out' of the app very quickly. Especially on a mobile app, it would seem that very few people would use documentation editing tools. This space, however, could be ripe for a clean, easy-to-use, documentation viewer and/or editor to make collaborative changes. By the nature of these apps, users will be spending time in the app, which gives us more opportunity to use ad targeting.\n",
    "\n",
    "This could be a novel space, albeit risky, to develop a colloborative mobile document editor.\n",
    "\n",
    "Let's look at perhaps less-risk areas such as `NEWS_AND_MAGAZINES` as well as `BOOKS_AND_REFERENCE`. Keep in mind, an app surrounding a book or books in the iOS App Store, was suggested. Having a similar suggestion for Google Play, could cast our net wider without creating two completely separate apps to uniquely cater to both Google Play and the App Store."
   ]
  },
  {
   "cell_type": "code",
   "execution_count": 46,
   "metadata": {
    "collapsed": false
   },
   "outputs": [
    {
     "name": "stdout",
     "output_type": "stream",
     "text": [
      "Twitter : 500,000,000+\n",
      "Flipboard: News For Our Time : 500,000,000+\n",
      "Google News : 1,000,000,000+\n"
     ]
    }
   ],
   "source": [
    "for row in android_free:\n",
    "    if row[1] == 'NEWS_AND_MAGAZINES' and (row[5] == '1,000,000,000+'\n",
    "                             or row[5] == '500,000,000+'\n",
    "                             or row[5] == '100,000,000+'):\n",
    "        print(row[0], ':', row[5])"
   ]
  },
  {
   "cell_type": "code",
   "execution_count": 47,
   "metadata": {
    "collapsed": false
   },
   "outputs": [
    {
     "name": "stdout",
     "output_type": "stream",
     "text": [
      "Google Play Books : 1,000,000,000+\n",
      "Bible : 100,000,000+\n",
      "Amazon Kindle : 100,000,000+\n",
      "Wattpad 📖 Free Books : 100,000,000+\n",
      "Audiobooks from Audible : 100,000,000+\n"
     ]
    }
   ],
   "source": [
    "for row in android_free:\n",
    "    if row[1] == 'BOOKS_AND_REFERENCE' and (row[5] == '1,000,000,000+'\n",
    "                             or row[5] == '500,000,000+'\n",
    "                             or row[5] == '100,000,000+'):\n",
    "        print(row[0], ':', row[5])"
   ]
  },
  {
   "cell_type": "markdown",
   "metadata": {},
   "source": [
    "Both of these areas have very few popular apps, so it could be worth explorings these categories to develop other apps.\n",
    "\n",
    "Let's tlook at the kinds of apps that are in the middle in terms of popularity (between 1,000,000 and 100,000,000 downloads):"
   ]
  },
  {
   "cell_type": "code",
   "execution_count": 48,
   "metadata": {
    "collapsed": false
   },
   "outputs": [
    {
     "name": "stdout",
     "output_type": "stream",
     "text": [
      "Fox News – Breaking News, Live Video & News Alerts : 10,000,000+\n",
      "NEW - Read Newspaper, News 24h : 10,000,000+\n",
      "BaBe + - Indonesian News : 1,000,000+\n",
      "daily News : 1,000,000+\n",
      "BBC News : 10,000,000+\n",
      "Free TV Shows App:News, TV Series, Episode, Movies : 1,000,000+\n",
      "News24 : 1,000,000+\n",
      "Le Monde, the continuous news : 5,000,000+\n",
      "Wireless news : 1,000,000+\n",
      "CNN Breaking US & World News : 10,000,000+\n",
      "Gnoche entertainment news · sports news is also free : 5,000,000+\n",
      "BaBe - Read News : 10,000,000+\n",
      "Nigeria News NAIJ.com : 1,000,000+\n",
      "detikcom - Latest & Most Complete News : 10,000,000+\n",
      "Dailyhunt (Newshunt) - Latest News, Viral Videos : 50,000,000+\n",
      "BaBe Lite - Read Quota Saving News : 1,000,000+\n",
      "Bengali Newspaper - The first L. : 1,000,000+\n",
      "Read- Latest News, Information, Gossip and Politics : 10,000,000+\n",
      "Reddit: Social News, Trending Memes & Funny Videos : 10,000,000+\n",
      "Opera News - Trending news and videos : 10,000,000+\n",
      "Topbuzz: Breaking News, Videos & Funny GIFs : 10,000,000+\n",
      "Pulse Nabd - World News, Urgent : 10,000,000+\n",
      "WE : 1,000,000+\n",
      "Sky News : 1,000,000+\n",
      "Microsoft News : 1,000,000+\n",
      "Onet - news, weather, sport : 1,000,000+\n",
      "Vietnam Today - Read online newspapers, the hottest news 24h : 5,000,000+\n",
      "Apple Daily Apple News : 5,000,000+\n",
      "Tencent News : 1,000,000+\n",
      "ARY NEWS : 1,000,000+\n",
      "Kurio - Read the Latest News : 1,000,000+\n",
      "Daily Mail Online : 5,000,000+\n",
      "Loop - Caribbean Local News : 1,000,000+\n",
      "AD - News, Sports, Region & Entertainment : 1,000,000+\n",
      "Podcast Addict : 5,000,000+\n",
      "Podcast Republic - Podcast Player & Radio Player : 1,000,000+\n",
      "BeyondPod Podcast Manager : 1,000,000+\n",
      "issuu - Read Magazines, Catalogs, Newspapers. : 1,000,000+\n",
      "BuzzFeed: News, Tasty, Quizzes : 5,000,000+\n",
      "Fast News : 1,000,000+\n",
      "The Washington Post Classic : 1,000,000+\n",
      "USA TODAY : 5,000,000+\n",
      "World Newspapers : 1,000,000+\n",
      "The Wall Street Journal: Business & Market News : 1,000,000+\n",
      "Financial Times : 1,000,000+\n",
      "The Guardian : 5,000,000+\n",
      "NYTimes - Latest News : 10,000,000+\n",
      "News360: Personalized News : 1,000,000+\n",
      "RT News (Russia Today) : 1,000,000+\n",
      "NPR News : 1,000,000+\n",
      "Reuters News : 1,000,000+\n",
      "Bloomberg: Market & Financial News : 10,000,000+\n",
      "ABC News - US & World News : 1,000,000+\n",
      "NBC News : 5,000,000+\n",
      "AP Mobile - Breaking News : 1,000,000+\n",
      "HuffPost - News : 1,000,000+\n",
      "News Republic : 10,000,000+\n",
      "Newsroom: News Worth Sharing : 10,000,000+\n",
      "SmartNews: Breaking News Headlines : 10,000,000+\n",
      "Updates for Samsung - Android Update Versions : 10,000,000+\n",
      "AC - Tips & News for Android™ : 1,000,000+\n",
      "CBS News : 1,000,000+\n",
      "NPR One : 1,000,000+\n",
      "JailBase - Arrests + Mugshots : 1,000,000+\n",
      "Pocket : 10,000,000+\n",
      "AOL - News, Mail & Video : 5,000,000+\n",
      "BaconReader for Reddit : 1,000,000+\n",
      "E! News : 1,000,000+\n",
      "AD - Nieuws, Sport, Regio & Entertainment : 1,000,000+\n",
      "Al Jazeera English : 1,000,000+\n",
      "20 minutes (CH) : 1,000,000+\n",
      "20 Minuten (CH) : 1,000,000+\n",
      "DW - Breaking World News : 1,000,000+\n",
      "Ei Samay - Bengali News Paper : 1,000,000+\n",
      "FRANCE 24 : 5,000,000+\n",
      "NewsDog - Latest News, Breaking News, Local News : 10,000,000+\n",
      "Economic Times : Market News : 5,000,000+\n",
      "News by The Times of India Newspaper - Latest News : 10,000,000+\n",
      "Lotto Results - Mega Millions Powerball Lottery US : 1,000,000+\n",
      "Podcast App: Free & Offline Podcasts by Player FM : 1,000,000+\n",
      "\n",
      "\n",
      "Wikipedia : 10,000,000+\n",
      "Cool Reader : 10,000,000+\n",
      "Book store : 1,000,000+\n",
      "FBReader: Favorite Book Reader : 10,000,000+\n",
      "Free Books - Spirit Fanfiction and Stories : 1,000,000+\n",
      "AlReader -any text book reader : 5,000,000+\n",
      "FamilySearch Tree : 1,000,000+\n",
      "Cloud of Books : 1,000,000+\n",
      "ReadEra – free ebook reader : 1,000,000+\n",
      "Ebook Reader : 5,000,000+\n",
      "Read books online : 5,000,000+\n",
      "eBoox: book reader fb2 epub zip : 1,000,000+\n",
      "All Maths Formulas : 1,000,000+\n",
      "Ancestry : 5,000,000+\n",
      "HTC Help : 10,000,000+\n",
      "Moon+ Reader : 10,000,000+\n",
      "English-Myanmar Dictionary : 1,000,000+\n",
      "Golden Dictionary (EN-AR) : 1,000,000+\n",
      "All Language Translator Free : 1,000,000+\n",
      "Aldiko Book Reader : 10,000,000+\n",
      "Dictionary - WordWeb : 5,000,000+\n",
      "50000 Free eBooks & Free AudioBooks : 5,000,000+\n",
      "Al-Quran (Free) : 10,000,000+\n",
      "Al Quran Indonesia : 10,000,000+\n",
      "Al'Quran Bahasa Indonesia : 10,000,000+\n",
      "Al Quran Al karim : 1,000,000+\n",
      "Al Quran : EAlim - Translations & MP3 Offline : 5,000,000+\n",
      "Koran Read &MP3 30 Juz Offline : 1,000,000+\n",
      "Hafizi Quran 15 lines per page : 1,000,000+\n",
      "Quran for Android : 10,000,000+\n",
      "Satellite AR : 1,000,000+\n",
      "Oxford A-Z of English Usage : 1,000,000+\n",
      "Dictionary.com: Find Definitions for English Words : 10,000,000+\n",
      "English Dictionary - Offline : 10,000,000+\n",
      "Bible KJV : 5,000,000+\n",
      "NOOK: Read eBooks & Magazines : 10,000,000+\n",
      "Brilliant Quotes: Life, Love, Family & Motivation : 1,000,000+\n",
      "Stats Royale for Clash Royale : 1,000,000+\n",
      "Dictionary : 10,000,000+\n",
      "wikiHow: how to do anything : 1,000,000+\n",
      "EGW Writings : 1,000,000+\n",
      "My Little Pony AR Guide : 1,000,000+\n",
      "Spanish English Translator : 10,000,000+\n",
      "Dictionary - Merriam-Webster : 10,000,000+\n",
      "JW Library : 10,000,000+\n",
      "Oxford Dictionary of English : Free : 10,000,000+\n",
      "English Hindi Dictionary : 10,000,000+\n",
      "English to Hindi Dictionary : 5,000,000+\n"
     ]
    }
   ],
   "source": [
    "for row in android_free:\n",
    "    if row[1] == 'NEWS_AND_MAGAZINES' and (row[5] == '1,000,000+'\n",
    "                             or row[5] == '5,000,000+'\n",
    "                             or row[5] == '10,000,000+'\n",
    "                             or row[5] == '50,000,000+'):\n",
    "        print(row[0], ':', row[5])\n",
    "\n",
    "print('\\n')\n",
    "        \n",
    "for row in android_free:\n",
    "    if row[1] == 'BOOKS_AND_REFERENCE' and (row[5] == '1,000,000+'\n",
    "                             or row[5] == '5,000,000+'\n",
    "                             or row[5] == '10,000,000+'\n",
    "                             or row[5] == '50,000,000+'):\n",
    "        print(row[0], ':', row[5])"
   ]
  },
  {
   "cell_type": "markdown",
   "metadata": {
    "collapsed": true
   },
   "source": [
    "The news seems to be well diversified and saturated so let's look at `BOOKS_AND_REFERENCE`. It seems it is dominated by software for processing and reading ebooks, dictionaries, and librariers. We will avoid these areas since there is significant competition.\n",
    "\n",
    "We made the suggestion of centering our app around a book with the App Store. This could be an attractive path here in Google Play as well. We see that there are multiple apps surrounding the Quran suggesting that we could develop an app based off of a more recent book with built-in dictionaries to consolidate and streamline the user experience. We could do audiobooks, quotes from books, a social forum, or virtual book-club to name a few.\n",
    "\n",
    "\n",
    "## Conclusions\n",
    "We analyzed data from the App Store and Google Play mobile apps with the aim of identifying and recommending an app profile that can be profitable for both markets by using ad-targeting.\n",
    "\n",
    "We would like apps that a lot of people install, are a popular genre, and will spend some time on.\n",
    "\n",
    "We concluded that an app surroudning a book could be profitable for both the Google Play and the App Store markets. This could be audiobooks, quotes from books, a social forum, a book-review forum, what famous people are reading i.e. spin off on Gates' suggested reads, or virtual book-club to name a few."
   ]
  }
 ],
 "metadata": {
  "kernelspec": {
   "display_name": "Python 3",
   "language": "python",
   "name": "python3"
  },
  "language_info": {
   "codemirror_mode": {
    "name": "ipython",
    "version": 3
   },
   "file_extension": ".py",
   "mimetype": "text/x-python",
   "name": "python",
   "nbconvert_exporter": "python",
   "pygments_lexer": "ipython3",
   "version": "3.4.3"
  }
 },
 "nbformat": 4,
 "nbformat_minor": 2
}
